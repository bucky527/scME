{
 "cells": [
  {
   "cell_type": "markdown",
   "metadata": {},
   "source": [
    "## Install scME"
   ]
  },
  {
   "cell_type": "code",
   "execution_count": null,
   "metadata": {},
   "outputs": [],
   "source": [
    "#first install scME\n",
    "!python setup.py install"
   ]
  },
  {
   "cell_type": "markdown",
   "metadata": {},
   "source": [
    "## scME "
   ]
  },
  {
   "cell_type": "code",
   "execution_count": 2,
   "metadata": {},
   "outputs": [],
   "source": [
    "import pandas as pd\n",
    "import numpy as np\n",
    "import matplotlib.pyplot as plt\n",
    "\n",
    "import scvi\n",
    "import scanpy as sc\n",
    "import anndata as ad\n",
    "sc.set_figure_params(figsize=(8, 8))\n",
    "from scipy.io import mmread\n",
    "\n",
    "%config InlineBackend.print_figure_kwargs={'facecolor' : \"w\"}\n",
    "%config InlineBackend.figure_format='retina'\n",
    "import scme"
   ]
  },
  {
   "cell_type": "code",
   "execution_count": 3,
   "metadata": {},
   "outputs": [],
   "source": [
    "#read the count data matrix of BMNC dataset\n",
    "#read RNA data\n",
    "rna_count=mmread('./example_data/rnacountdgc.mtx').toarray()\n",
    "genes=pd.read_csv(\"./example_data/genes.csv\",index_col=0)\n",
    "cellids=pd.read_csv(\"./example_data/cellids.csv\",index_col=0)\n",
    "\n",
    "#read protein data\n",
    "protein_count=pd.read_csv('./example_data/adtcount.csv',index_col=0)"
   ]
  },
  {
   "cell_type": "code",
   "execution_count": 4,
   "metadata": {},
   "outputs": [],
   "source": [
    "rna_count=pd.DataFrame(rna_count.T,index=cellids.values[:,0],columns=genes.values[:,0])"
   ]
  },
  {
   "cell_type": "code",
   "execution_count": 5,
   "metadata": {},
   "outputs": [
    {
     "name": "stderr",
     "output_type": "stream",
     "text": [
      "/opt/miniconda3/envs/scME/lib/python3.7/site-packages/ipykernel_launcher.py:3: FutureWarning: X.dtype being converted to np.float32 from int64. In the next version of anndata (0.9) conversion will not be automatic. Pass dtype explicitly to avoid this warning. Pass `AnnData(X, dtype=X.dtype, ...)` to get the future behavour.\n",
      "  This is separate from the ipykernel package so we can avoid doing imports until\n",
      "/opt/miniconda3/envs/scME/lib/python3.7/site-packages/ipykernel_launcher.py:4: FutureWarning: X.dtype being converted to np.float32 from int64. In the next version of anndata (0.9) conversion will not be automatic. Pass dtype explicitly to avoid this warning. Pass `AnnData(X, dtype=X.dtype, ...)` to get the future behavour.\n",
      "  after removing the cwd from sys.path.\n"
     ]
    }
   ],
   "source": [
    "#preprocess the data\n",
    "#create adata object\n",
    "rna=ad.AnnData(X=rna_count.values,obs=pd.DataFrame(index=rna_count.index), var=pd.DataFrame(index=rna_count.columns))\n",
    "protein=ad.AnnData(X=protein_count.values,obs=pd.DataFrame(index=protein_count.index), var=pd.DataFrame(index=protein_count.columns))"
   ]
  },
  {
   "cell_type": "code",
   "execution_count": 6,
   "metadata": {},
   "outputs": [
    {
     "name": "stderr",
     "output_type": "stream",
     "text": [
      "/opt/miniconda3/envs/scME/lib/python3.7/site-packages/scanpy/preprocessing/_highly_variable_genes.py:64: UserWarning: `flavor='seurat_v3'` expects raw count data, but non-integers were found.\n",
      "  UserWarning,\n"
     ]
    }
   ],
   "source": [
    "# select highly variable genes\n",
    "rna.layers[\"counts\"] = rna.X.copy()\n",
    "sc.pp.normalize_total(rna)\n",
    "sc.pp.log1p(rna)\n",
    "sc.pp.highly_variable_genes( \n",
    "    rna,\n",
    "    n_top_genes=2000,\n",
    "    flavor=\"seurat_v3\",\n",
    "    subset = True\n",
    ")\n",
    "rna.raw = rna\n",
    "rna = rna[:, rna.var.highly_variable]\n"
   ]
  },
  {
   "cell_type": "code",
   "execution_count": 7,
   "metadata": {},
   "outputs": [],
   "source": [
    "#PCA and clustering for RNA data\n",
    "sc.pp.pca(rna,svd_solver='arpack')\n",
    "sc.pp.neighbors(rna, n_neighbors=30,n_pcs=30)   \n",
    "sc.tl.leiden(rna, key_added=\"rna_leiden\",resolution=1)"
   ]
  },
  {
   "cell_type": "code",
   "execution_count": 8,
   "metadata": {},
   "outputs": [],
   "source": [
    "def clr_normalize_each_cell(adata, inplace=True):\n",
    "    \"\"\"Normalize count vector for each cell, i.e. for each row of .X\"\"\"\n",
    "\n",
    "    import numpy as np\n",
    "    import scipy\n",
    "\n",
    "    def seurat_clr(x):\n",
    "        # TODO: support sparseness\n",
    "        s = np.sum(np.log1p(x[x > 0]))\n",
    "        exp = np.exp(s / len(x))\n",
    "        return np.log1p(x / exp)\n",
    "\n",
    "    if not inplace:\n",
    "        adata = adata.copy()\n",
    "\n",
    "    # apply to dense or sparse matrix, along axis. returns dense matrix\n",
    "    adata.X = np.apply_along_axis(\n",
    "        seurat_clr, 1, (adata.X.A if scipy.sparse.issparse(adata.X) else adata.X)\n",
    "    )\n",
    "    return adata"
   ]
  },
  {
   "cell_type": "code",
   "execution_count": 9,
   "metadata": {},
   "outputs": [],
   "source": [
    "protein.layers[\"counts\"] = protein.X.copy()\n",
    "protein=clr_normalize_each_cell(protein)\n",
    "sc.pp.pca(protein, svd_solver=\"arpack\")\n",
    "sc.pp.neighbors(protein, n_neighbors=10) \n",
    "sc.tl.leiden(protein, key_added=\"protein_leiden\",resolution=1)"
   ]
  },
  {
   "cell_type": "code",
   "execution_count": 22,
   "metadata": {},
   "outputs": [
    {
     "data": {
      "text/plain": [
       "(30672, 2000)"
      ]
     },
     "execution_count": 22,
     "metadata": {},
     "output_type": "execute_result"
    }
   ],
   "source": [
    "rna.X.shape"
   ]
  },
  {
   "cell_type": "code",
   "execution_count": 10,
   "metadata": {},
   "outputs": [],
   "source": [
    "#create training dataset\n",
    "rna.X=rna.layers[\"counts\"]\n",
    "protein.X=protein.layers[\"counts\"]\n",
    "traindataset=scme.AnnDataset(rna,protein,to_onehot=True)"
   ]
  },
  {
   "cell_type": "code",
   "execution_count": 23,
   "metadata": {},
   "outputs": [],
   "source": [
    "#built scme model and initial\n",
    "#use negative binomial distribution for protein data\n",
    "model=scme.build_scme(rna,protein,traindataset,protein_dist=\"NB\",if_preprocess=True)"
   ]
  },
  {
   "cell_type": "code",
   "execution_count": 24,
   "metadata": {},
   "outputs": [
    {
     "name": "stdout",
     "output_type": "stream",
     "text": [
      "epoch :0000  loss:6514751.65236 loss_ae:5776424.6595 loss_cls:738326.9928\n",
      "epoch :0001  loss:4612695.50782 loss_ae:4119352.3385 loss_cls:493343.1693\n",
      "epoch :0002  loss:3719854.26473 loss_ae:3341219.8858 loss_cls:378634.3789\n",
      "epoch :0003  loss:3096637.08078 loss_ae:2792387.0307 loss_cls:304250.0501\n",
      "epoch :0004  loss:2527195.01396 loss_ae:2275028.6511 loss_cls:252166.3628\n",
      "epoch :0005  loss:2098633.11286 loss_ae:1883802.6205 loss_cls:214830.4923\n",
      "epoch :0006  loss:1766582.44572 loss_ae:1578377.0578 loss_cls:188205.3879\n",
      "epoch :0007  loss:1491784.39948 loss_ae:1321008.1255 loss_cls:170776.2740\n",
      "epoch :0008  loss:1247109.55308 loss_ae:1096773.0935 loss_cls:150336.4596\n",
      "epoch :0009  loss:1052366.39135 loss_ae:913130.4210 loss_cls:139235.9703\n",
      "epoch :0010  loss:884849.73785 loss_ae:756996.3891 loss_cls:127853.3487\n",
      "epoch :0011  loss:755204.66203 loss_ae:635933.9592 loss_cls:119270.7029\n",
      "epoch :0012  loss:642545.33583 loss_ae:532676.6289 loss_cls:109868.7069\n",
      "epoch :0013  loss:546937.91944 loss_ae:449249.7105 loss_cls:97688.2089\n",
      "epoch :0014  loss:475504.34449 loss_ae:382926.7512 loss_cls:92577.5933\n",
      "epoch :0015  loss:411249.62984 loss_ae:327079.3364 loss_cls:84170.2934\n",
      "epoch :0016  loss:363151.00503 loss_ae:283563.0206 loss_cls:79587.9844\n",
      "epoch :0017  loss:328502.76562 loss_ae:252679.4659 loss_cls:75823.2998\n",
      "epoch :0018  loss:299990.24749 loss_ae:228524.2961 loss_cls:71465.9514\n",
      "epoch :0019  loss:280466.34312 loss_ae:213865.4778 loss_cls:66600.8653\n",
      "epoch :0020  loss:266416.65506 loss_ae:202507.5753 loss_cls:63909.0797\n",
      "epoch :0021  loss:254180.95821 loss_ae:193209.8043 loss_cls:60971.1539\n",
      "epoch :0022  loss:242853.50758 loss_ae:185382.6916 loss_cls:57470.8159\n",
      "epoch :0023  loss:232130.96461 loss_ae:178310.4505 loss_cls:53820.5141\n",
      "epoch :0024  loss:229140.02715 loss_ae:174932.4870 loss_cls:54207.5401\n",
      "epoch :0025  loss:222858.60291 loss_ae:171170.1780 loss_cls:51688.4249\n",
      "epoch :0026  loss:216693.24146 loss_ae:167023.6587 loss_cls:49669.5828\n",
      "epoch :0027  loss:208965.96248 loss_ae:161983.4448 loss_cls:46982.5177\n",
      "epoch :0028  loss:206976.25009 loss_ae:161209.1828 loss_cls:45767.0673\n",
      "epoch :0029  loss:202656.86843 loss_ae:157756.6327 loss_cls:44900.2357\n",
      "epoch :0030  loss:203899.36534 loss_ae:157345.8269 loss_cls:46553.5385\n",
      "epoch :0031  loss:194985.84761 loss_ae:153511.5529 loss_cls:41474.2947\n",
      "epoch :0032  loss:190811.62151 loss_ae:150711.2363 loss_cls:40100.3852\n",
      "epoch :0033  loss:189695.92182 loss_ae:149839.3661 loss_cls:39856.5558\n",
      "epoch :0034  loss:203378.41055 loss_ae:165300.3518 loss_cls:38078.0587\n",
      "epoch :0035  loss:202956.61089 loss_ae:152727.8416 loss_cls:50228.7693\n"
     ]
    }
   ],
   "source": [
    "#train the scme model\n",
    "model=scme.train_model(model,max_epochs=200)"
   ]
  },
  {
   "cell_type": "code",
   "execution_count": null,
   "metadata": {},
   "outputs": [],
   "source": []
  }
 ],
 "metadata": {
  "kernelspec": {
   "display_name": "Python 3.7.15 ('scME')",
   "language": "python",
   "name": "python3"
  },
  "language_info": {
   "codemirror_mode": {
    "name": "ipython",
    "version": 3
   },
   "file_extension": ".py",
   "mimetype": "text/x-python",
   "name": "python",
   "nbconvert_exporter": "python",
   "pygments_lexer": "ipython3",
   "version": "3.7.15"
  },
  "orig_nbformat": 4,
  "vscode": {
   "interpreter": {
    "hash": "f621d9d21ddc07ff29714a29f4a409099da1514b85b2a58d1fa4c654581448f5"
   }
  }
 },
 "nbformat": 4,
 "nbformat_minor": 2
}
